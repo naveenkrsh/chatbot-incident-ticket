{
 "cells": [
  {
   "cell_type": "code",
   "execution_count": 1,
   "metadata": {},
   "outputs": [
    {
     "name": "stderr",
     "output_type": "stream",
     "text": [
      "/Library/Frameworks/Python.framework/Versions/3.5/lib/python3.5/importlib/_bootstrap.py:222: RuntimeWarning: compiletime version 3.6 of module 'tensorflow.python.framework.fast_tensor_util' does not match runtime version 3.5\n",
      "  return f(*args, **kwds)\n"
     ]
    },
    {
     "name": "stdout",
     "output_type": "stream",
     "text": [
      "hdf5 is not supported on this machine (please install/reinstall h5py for optimal experience)\n"
     ]
    }
   ],
   "source": [
    "import nltk\n",
    "from nltk.stem.lancaster import LancasterStemmer\n",
    "stemmer = LancasterStemmer()\n",
    "import numpy as np\n",
    "import tflearn\n",
    "import tensorflow as tf\n",
    "import random"
   ]
  },
  {
   "cell_type": "code",
   "execution_count": 2,
   "metadata": {},
   "outputs": [],
   "source": [
    "# import our chat-bot intents file\n",
    "import json\n",
    "with open('../data/intents.json') as json_data:\n",
    "    intents = json.load(json_data)"
   ]
  },
  {
   "cell_type": "code",
   "execution_count": 3,
   "metadata": {},
   "outputs": [
    {
     "name": "stdout",
     "output_type": "stream",
     "text": [
      "398 documents\n",
      "7 classes ['emotional', 'greeting', 'history', 'incident', 'politics', 'profile', 'thanks']\n",
      "605 unique stemmed words ['!', '#', \"'m\", \"'s\", '(', ')', ',', '-', '.', '...', '//infonet.na.frs/departments/gss/gsshome/default.aspx', '//portal.lumension.com', '//upload-na.ckggsoftware.com', '100mbit', '10400', '14805', '2015', '2016', '2017', '23', '2nd', '31', '400', '42', '51231', '565355', ':', ';', 'a', 'about', 'acceiv', 'access', 'account', 'act', 'ad', 'adapt', 'admin', 'advoc', 'afraid', 'aft', 'ag', 'again', 'al', 'alert', 'alex', 'am', 'amend', 'amendemnt', 'amus', 'an', 'and', 'andrew', 'angry', 'answ', 'any', 'anyon', 'anyth', 'appl', 'apply', 'approv', 'ar', 'arrog', 'as', 'asham', 'ask', 'at', 'attach', 'august', 'autom', 'av', 'away', 'az', 'b.itdog.com', 'bab', 'back', 'badg', 'batist', 'be', 'been', 'behalf', 'between', 'bhanu', 'bil', 'bin', 'blam', 'blu', 'bor', 'boss', 'bot', 'box', 'bracknel', 'broad', 'brok', 'broth', 'build', 'built', 'but', 'buy', 'by', 'bye', 'ca', 'cach', 'cal', 'callout', 'can', 'cant', 'capit', 'cartridg', 'casino', 'catalog', 'categ', 'caus', 'cd/dvd', 'cent', 'cert', 'challeng', 'chang', 'chicklet', 'chrome', 'civil', 'ckgg', 'ckmc', 'ckmc.webex.com', 'class', 'clin', 'clon', 'clos', 'coloc', 'common', 'commun', 'comput', 'connect', 'connecto', 'consum', 'cont', 'contact', 'contract', 'control', 'cor', 'corp', 'could', 'cours', 'crm', 'cs', 'cs-esx02.na.frs', 'cs-iweb1', 'cs-loba51', 'cs-vssa01', 'custom', 'daresbury', 'dashboard', 'dat', 'dc', 'de', 'depend', 'desk', 'deux', 'develop', 'digit', 'discredit', 'display', 'distribut', 'district', 'dl', 'dmz', 'do', 'docu', 'doe', 'doing', 'domain', 'down', 'download', 'dream', 'driv', 'dropbox', 'dublin', 'e', 'e-mail', 'earn', 'east/west', 'eat', 'econom', 'edison', 'edit', 'email', 'embarrass', 'emot', 'employ', 'engin', 'entitl', 'enviorn', 'er', 'espec', 'est', 'estim', 'etc', 'ev', 'every', 'everyth', 'everywh', 'ex', 'expens', 'expery', 'expir', 'expiry', 'explain', 'extern', 'fail', 'far', 'fath', 'fault', 'favorit', 'fear', 'feel', 'felix', 'felt', 'few', 'fil', 'find', 'firewal', 'first', 'fix', 'fond', 'food', 'for', 'forecast', 'french', 'from', 'frsgin', 'frsnet', 'ftp', 'fun', 'fw', 'galaxy', 'galway', 'ger-4539', 'get', 'glad', 'glob', 'going', 'good', 'govern', 'green', 'greenpeac', 'greet', 'group', 'gss', 'gun', 'had', 'hann', 'happy', 'hardw', 'has', 'hat', 'hav', 'head', 'hear', 'height', 'hello', 'help', 'hi', 'high', 'hir', 'hist', 'hom', 'hon', 'how', 'http', 'https', 'hum', 'i', 'id', 'ie-fs-03v', 'ii', 'impeach', 'in', 'includ', 'ind-7', 'instal', 'instruct', 'integr', 'interest', 'internet', 'interpret', 'into', 'intox', 'intranet', 'inv', 'invest', 'invo', 'is', 'issu', 'it', 'jackson', 'jam', 'jeal', 'josh', 'just', 'kaspersky', 'keep', 'kind', 'know', 'ktm', 'lab', 'langu', 'laptop', 'lat', 'ldms', 'les/citrix', 'lferdinandwin7d', 'licens', 'license.itdog.com', 'lie', 'lightbulb', 'lik', 'liv', 'load', 'loc', 'log', 'login', 'lon', 'long', 'lot', 'lov', 'low', 'mac', 'mad', 'mak', 'man', 'margin', 'market', 'marx', 'matthew', 'mdf', 'mdm', 'me', 'mean', 'meet', 'merg', 'michael', 'might', 'migr', 'mil', 'milit', 'milpita', 'miss', 'mobl', 'monday', 'money', 'monit', 'mood', 'mor', 'morin', 'morn', 'mos', 'most', 'moth', 'motivos', 'mov', 'mu', 'muenvmn80', 'murph', 'my', 'myself', \"n't\", 'nat', 'nee', 'net', 'netsuit', 'network', 'nev', 'new', 'niamh', 'nic', 'nikk', 'no', 'nod', 'not', 'novemb', 'numb', 'observ', 'of', 'off', 'offend', 'okt', 'on', 'ongo', 'ont', 'ooo', 'op', 'opportun', 'or', 'ord', 'org', 'our', 'out', 'outlok', 'outlook', 'ov', 'own', 'paid', 'pain', 'part', 'password', 'patty', 'paul', 'pawel', 'pdf', 'peopl', 'perfect', 'period', 'permit', 'person', 'phon', 'pleas', 'plhost', 'plugin', 'pol', 'polit', 'poss', 'post', 'predict', 'presid', 'print', 'problem', 'process', 'produc', 'program', 'progress', 'project', 'promot', 'provid', 'quarantin', 'quit', 'ram', 'rat', 'rath', 're', 'read', 'real', 'rec', 'recommend', 'record', 'recov', 'reg', 'rel', 'remov', 'renew', 'replac', 'reply', 'report', 'repres', 'reput', 'request', 'reset', 'retain', 'review', 'ricoh', 'right', 'rm', 'robot', 'rol', 'rui', 'sad', 'salesforc', 'salesforce.com', 'sap', 'say', 'scan', 'scar', 'scd', 'scheduled', 'sci', 'scottsd', 'screwed', 'second', 'see', 'sel', 'selfemploy', 'send', 'serrano', 'serv', 'set', 'setup', 'sf', 'sfdc', 'shar', 'should', 'shouldnt', 'show', 'sibl', 'sit', 'siz', 'skiddoo', 'smart', 'snapshot', 'snip', 'soc', 'sociopolit', 'softphon', 'softw', 'solarwind', 'som', 'someth', 'sou', 'ssl', 'stag', 'standard', 'start', 'stat', 'steam', 'stil', 'stock', 'struve', 'stuck', 'subject', 'subold', 'suit', 'support', 'survey', 'swap', 'swinson', 'switch', 'synt', 'system', 'tak', 'talk', 'tel', 'temp', 'termin', 'test', 'testlizenz', 'testmachin', 'than', 'thank', 'that', 'the', 'their', 'thi', 'thing', 'think', 'third-party', 'thoma', 'ticket', 'tim', 'to', 'tol', 'tony', 'too', 'top', 'turtl', 'two', 'uk', 'un', 'understand', 'unhappy', 'up', 'upd', 'upload', 'urg', 'us', 'vary', 'vcloud', 'verf', 'very', 'vga/laptop', 'via', 'view', 'viol', 'virus', 'voicemail', 'volvo', 'vpn', 'vpn.appsense.com', 'wait', 'walk', 'want', 'war', 'was', 'wat', 'we', 'web', 'webex', 'what', 'when', 'wher', 'wheth', 'which', 'who', 'why', 'wid', 'wil', 'with', 'work', 'worry', 'would', 'xact', 'yahoo', 'ye', 'year', 'yellow', 'yo', 'you', 'young', 'yourself']\n"
     ]
    }
   ],
   "source": [
    "words = []\n",
    "classes = []\n",
    "documents = []\n",
    "ignore_words = ['?']\n",
    "response = {}\n",
    "for intent in intents['intents']:\n",
    "    for pattern in intent['patterns']:\n",
    "        if pattern is None:\n",
    "            pattern = \"nothing specified\"\n",
    "        w = nltk.word_tokenize(pattern)\n",
    "        words.extend(w)\n",
    "        documents.append((w, intent['tag']))\n",
    "        \n",
    "        if intent['tag'] not in classes:\n",
    "            classes.append(intent['tag'])\n",
    "    response[intent[\"tag\"]] = intent[\"responses\"]\n",
    "\n",
    "words = [stemmer.stem(w.lower()) for w in words if w not in ignore_words]\n",
    "words = sorted(list(set(words)))\n",
    "classes = sorted(list(set(classes)))\n",
    "\n",
    "print (len(documents), \"documents\")\n",
    "print (len(classes), \"classes\", classes)\n",
    "print (len(words), \"unique stemmed words\", words)"
   ]
  },
  {
   "cell_type": "code",
   "execution_count": 4,
   "metadata": {},
   "outputs": [],
   "source": [
    "# create our training data\n",
    "training = []\n",
    "output = []\n",
    "# create an empty array for our output\n",
    "output_empty = [0] * len(classes)\n",
    "\n",
    "# training set, bag of words for each sentence\n",
    "for doc in documents:\n",
    "    # initialize our bag of words\n",
    "    bag = []\n",
    "    # list of tokenized words for the pattern\n",
    "    pattern_words = doc[0]\n",
    "    # stem each word\n",
    "    pattern_words = [stemmer.stem(word.lower()) for word in pattern_words]\n",
    "    # create our bag of words array\n",
    "    for w in words:\n",
    "        bag.append(1) if w in pattern_words else bag.append(0)\n",
    "\n",
    "    # output is a '0' for each tag and '1' for current tag\n",
    "    output_row = list(output_empty)\n",
    "    output_row[classes.index(doc[1])] = 1\n",
    "\n",
    "    training.append([bag, output_row])\n",
    "\n",
    "# shuffle our features and turn into np.array\n",
    "random.shuffle(training)\n",
    "training = np.array(training)\n",
    "\n",
    "# create train and test lists\n",
    "train_x = list(training[:,0])\n",
    "train_y = list(training[:,1])"
   ]
  },
  {
   "cell_type": "code",
   "execution_count": 15,
   "metadata": {
    "scrolled": true
   },
   "outputs": [
    {
     "name": "stdout",
     "output_type": "stream",
     "text": [
      "Training Step: 2999  | total loss: \u001b[1m\u001b[32m0.09429\u001b[0m\u001b[0m | time: 0.091s\n",
      "| Adam | epoch: 060 | loss: 0.09429 - acc: 0.9990 -- iter: 392/398\n",
      "Training Step: 3000  | total loss: \u001b[1m\u001b[32m0.09072\u001b[0m\u001b[0m | time: 0.092s\n",
      "| Adam | epoch: 060 | loss: 0.09072 - acc: 0.9991 -- iter: 398/398\n",
      "--\n",
      "INFO:tensorflow:/Users/tuhin.sharma/Documents/Git/chatbot-incident-ticket/chatbot_platform/data/model.tflearn is not in all_model_checkpoint_paths. Manually adding it.\n"
     ]
    }
   ],
   "source": [
    "# reset underlying graph data\n",
    "tf.reset_default_graph()\n",
    "# Build neural network\n",
    "net = tflearn.input_data(shape=[None, len(train_x[0])])\n",
    "net = tflearn.fully_connected(net, 8)\n",
    "net = tflearn.fully_connected(net, 8)\n",
    "net = tflearn.fully_connected(net, len(train_y[0]), activation='softmax')\n",
    "net = tflearn.regression(net)\n",
    "\n",
    "# Define model and setup tensorboard\n",
    "model = tflearn.DNN(net, tensorboard_dir='tflearn_logs')\n",
    "# Start training (apply gradient descent algorithm)\n",
    "model.fit(train_x, train_y, n_epoch=60, batch_size=8, show_metric=True)\n",
    "model.save('../data/model.tflearn')"
   ]
  },
  {
   "cell_type": "code",
   "execution_count": 6,
   "metadata": {},
   "outputs": [],
   "source": [
    "def clean_up_sentence(sentence):\n",
    "    # tokenize the pattern\n",
    "    sentence_words = nltk.word_tokenize(sentence)\n",
    "    # stem each word\n",
    "    sentence_words = [stemmer.stem(word.lower()) for word in sentence_words]\n",
    "    return sentence_words\n",
    "\n",
    "# return bag of words array: 0 or 1 for each word in the bag that exists in the sentence\n",
    "def bow(sentence, words, show_details=False):\n",
    "    # tokenize the pattern\n",
    "    sentence_words = clean_up_sentence(sentence)\n",
    "    # bag of words\n",
    "    bag = [0]*len(words)  \n",
    "    for s in sentence_words:\n",
    "        for i,w in enumerate(words):\n",
    "            if w == s: \n",
    "                bag[i] = 1\n",
    "                if show_details:\n",
    "                    print (\"found in bag: %s\" % w)\n",
    "\n",
    "    return(np.array(bag))"
   ]
  },
  {
   "cell_type": "code",
   "execution_count": 7,
   "metadata": {},
   "outputs": [
    {
     "name": "stdout",
     "output_type": "stream",
     "text": [
      "[0 0 0 0 0 0 0 0 0 0 0 0 0 0 0 0 0 0 0 0 0 0 0 0 0 0 0 0 0 0 0 0 0 0 0 0 0\n",
      " 0 0 0 0 0 0 0 0 0 0 0 0 0 0 0 0 0 0 0 0 0 0 0 0 0 0 0 0 0 0 0 0 0 0 0 0 0\n",
      " 0 0 0 0 0 0 0 0 0 0 0 0 0 0 0 0 0 0 0 0 0 0 0 0 0 0 0 0 0 0 0 0 0 0 0 0 0\n",
      " 0 0 0 0 0 0 0 0 0 0 0 0 0 0 0 0 0 0 0 0 0 0 0 0 0 0 0 0 0 0 0 0 0 0 0 0 0\n",
      " 0 0 0 0 0 0 0 0 0 0 0 0 0 0 0 0 0 0 0 0 0 0 0 0 0 0 0 0 0 0 0 0 0 0 0 0 0\n",
      " 0 0 0 0 0 0 0 0 0 0 0 0 0 0 0 0 0 0 0 0 0 0 0 0 0 0 0 0 0 0 0 0 0 0 0 0 0\n",
      " 0 0 0 0 0 0 0 0 0 0 0 0 0 0 0 0 0 0 0 0 0 0 0 0 0 0 0 0 0 0 0 0 0 0 0 0 0\n",
      " 0 0 0 0 0 0 0 0 0 0 0 0 0 0 0 0 0 0 0 0 0 0 0 0 0 0 0 0 0 0 0 1 0 0 0 0 0\n",
      " 0 0 0 0 0 0 0 0 0 0 0 0 0 0 0 0 0 0 0 0 0 0 0 0 0 0 0 0 0 0 0 0 0 0 0 0 0\n",
      " 0 0 0 0 0 0 0 0 0 0 0 0 0 0 0 0 0 0 0 0 0 0 0 0 0 0 0 0 0 0 0 0 0 0 0 0 0\n",
      " 0 0 0 0 0 0 0 0 0 0 0 0 0 0 0 0 0 0 0 1 0 0 0 0 0 0 0 0 0 0 0 0 0 0 0 0 0\n",
      " 0 0 0 0 0 0 0 0 0 0 0 0 0 0 0 0 0 0 0 0 0 0 0 0 0 0 0 0 0 0 0 0 0 0 0 0 0\n",
      " 0 0 0 0 0 0 0 0 0 0 0 0 0 0 0 0 0 0 0 0 0 0 0 0 0 0 0 0 0 0 0 0 0 0 0 0 0\n",
      " 0 0 0 0 0 0 0 0 0 0 0 0 0 0 0 0 0 0 0 0 0 0 0 0 0 0 0 0 0 0 0 0 0 0 0 0 0\n",
      " 0 0 0 0 0 0 0 0 0 0 0 0 0 0 0 0 0 0 0 0 0 0 0 0 0 0 0 0 0 0 0 0 0 0 0 0 0\n",
      " 0 0 0 0 0 0 0 0 0 0 0 0 0 0 0 0 0 0 0 0 0 0 0 0 0 0 0 0 0 0 0 0 0 0 0 0 0\n",
      " 0 0 0 0 0 0 0 0 0 1 0 0 0]\n",
      "['emotional', 'greeting', 'history', 'incident', 'politics', 'profile', 'thanks']\n"
     ]
    }
   ],
   "source": [
    "p = bow(\"is your shop open today?\", words)\n",
    "print (p)\n",
    "print (classes)"
   ]
  },
  {
   "cell_type": "code",
   "execution_count": 8,
   "metadata": {},
   "outputs": [
    {
     "name": "stdout",
     "output_type": "stream",
     "text": [
      "[[2.9185266e-04 3.0073694e-05 6.0774753e-04 6.3243622e-01 1.0114135e-03\n",
      "  2.9661033e-01 6.9012448e-02]]\n"
     ]
    }
   ],
   "source": [
    "print(model.predict([p]))"
   ]
  },
  {
   "cell_type": "code",
   "execution_count": 16,
   "metadata": {},
   "outputs": [],
   "source": [
    "# save all of our data structures\n",
    "import pickle\n",
    "pickle.dump( {'words':words, 'classes':classes, 'train_x':train_x, 'train_y':train_y}, open( \"../data/training_data\", \"wb\" ) )"
   ]
  },
  {
   "cell_type": "code",
   "execution_count": 13,
   "metadata": {},
   "outputs": [
    {
     "data": {
      "text/plain": [
       "605"
      ]
     },
     "execution_count": 13,
     "metadata": {},
     "output_type": "execute_result"
    }
   ],
   "source": [
    "len(train_x[0])"
   ]
  },
  {
   "cell_type": "code",
   "execution_count": 14,
   "metadata": {},
   "outputs": [
    {
     "data": {
      "text/plain": [
       "605"
      ]
     },
     "execution_count": 14,
     "metadata": {},
     "output_type": "execute_result"
    }
   ],
   "source": [
    "len(p)"
   ]
  },
  {
   "cell_type": "code",
   "execution_count": null,
   "metadata": {},
   "outputs": [],
   "source": []
  }
 ],
 "metadata": {
  "kernelspec": {
   "display_name": "Python 3",
   "language": "python",
   "name": "python3"
  },
  "language_info": {
   "codemirror_mode": {
    "name": "ipython",
    "version": 3
   },
   "file_extension": ".py",
   "mimetype": "text/x-python",
   "name": "python",
   "nbconvert_exporter": "python",
   "pygments_lexer": "ipython3",
   "version": "3.5.2"
  }
 },
 "nbformat": 4,
 "nbformat_minor": 1
}
